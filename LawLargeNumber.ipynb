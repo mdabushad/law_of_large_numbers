{
  "nbformat": 4,
  "nbformat_minor": 0,
  "metadata": {
    "colab": {
      "name": "LawLargeNumber.ipynb",
      "provenance": [],
      "collapsed_sections": [],
      "include_colab_link": true
    },
    "kernelspec": {
      "name": "python3",
      "display_name": "Python 3"
    }
  },
  "cells": [
    {
      "cell_type": "markdown",
      "metadata": {
        "id": "view-in-github",
        "colab_type": "text"
      },
      "source": [
        "<a href=\"https://colab.research.google.com/github/mdabushad/law_of_large_numbers/blob/main/LawLargeNumber.ipynb\" target=\"_parent\"><img src=\"https://colab.research.google.com/assets/colab-badge.svg\" alt=\"Open In Colab\"/></a>"
      ]
    },
    {
      "cell_type": "markdown",
      "metadata": {
        "id": "0QAj_wHTEJg4"
      },
      "source": [
        "# COURSE: Master Python for scientific programming by solving projects\n",
        "## PROJECT: The Law of Large Numbers\n",
        "#### TEACHER: Mike X Cohen, sincxpress.com\n",
        "##### COURSE URL: udemy.com/course/maspy_x/?couponCode=202201"
      ]
    },
    {
      "cell_type": "code",
      "metadata": {
        "id": "H0edLvGwa8mj"
      },
      "source": [
        "# load modules\n",
        "import numpy as np\n",
        "import matplotlib.pyplot as plt"
      ],
      "execution_count": null,
      "outputs": []
    },
    {
      "cell_type": "markdown",
      "metadata": {
        "id": "8OigqsotESYl"
      },
      "source": [
        "# Generate a population of random numbers"
      ]
    },
    {
      "cell_type": "code",
      "metadata": {
        "id": "Xq0Z9EwabTo5"
      },
      "source": [
        "# simulation parameters\n",
        "\n",
        "population_size = 2.3e5\n",
        "\n",
        "# 50 samples of 500 each\n",
        "sample_size = 500\n",
        "number_of_samples = 50"
      ],
      "execution_count": null,
      "outputs": []
    },
    {
      "cell_type": "code",
      "metadata": {
        "id": "praK2SPomiiJ",
        "colab": {
          "base_uri": "https://localhost:8080/",
          "height": 282
        },
        "outputId": "3d280f5c-1f6f-4fe8-d1fd-a6dc083e0715"
      },
      "source": [
        "# generate population distribution\n",
        "x = np.logspace(np.log10(0.001), np.log10(10), int(population_size))\n",
        "\n",
        "\n",
        "\n",
        "# a population of numbers that decreases with increasing value\n",
        "population = 1/x\n",
        "skip = int(1e3)\n",
        "\n",
        "\n",
        "# compute the true population mean\n",
        "trueMean = np.mean(population)\n",
        "print(trueMean)\n",
        "\n",
        "# plot the data\n",
        "plt.plot(population[::skip],'o')\n",
        "plt.show()\n"
      ],
      "execution_count": null,
      "outputs": [
        {
          "output_type": "stream",
          "name": "stdout",
          "text": [
            "108.56446524669427\n"
          ]
        },
        {
          "output_type": "display_data",
          "data": {
            "image/png": "[encoded data removed]",
            "text/plain": [
              "<Figure size 432x288 with 1 Axes>"
            ]
          },
          "metadata": {
            "needs_background": "light"
          }
        }
      ]
    },
    {
      "cell_type": "code",
      "metadata": {
        "id": "NqQuczHpb2NZ",
        "colab": {
          "base_uri": "https://localhost:8080/",
          "height": 279
        },
        "outputId": "a59e0422-4bdf-408b-b37d-f2bc951f9dc6"
      },
      "source": [
        "# shuffle the data values\n",
        "np.random.shuffle(population)\n",
        "\n",
        "plt.plot(population[::skip], 'o')\n",
        "plt.xlabel('Sample')\n",
        "plt.ylabel('Value')\n",
        "plt.show()\n"
      ],
      "execution_count": null,
      "outputs": [
        {
          "output_type": "display_data",
          "data": {
            "image/png": "[encoded data removed]",
            "text/plain": [
              "<Figure size 432x288 with 1 Axes>"
            ]
          },
          "metadata": {
            "needs_background": "light"
          }
        }
      ]
    },
    {
      "cell_type": "markdown",
      "metadata": {
        "id": "Teg57tygErON"
      },
      "source": [
        "# Monte Carlo sampling"
      ]
    },
    {
      "cell_type": "code",
      "metadata": {
        "id": "A_FLQVhOb9RZ",
        "colab": {
          "base_uri": "https://localhost:8080/"
        },
        "outputId": "f3d2d37c-31d1-45d1-f1fd-3aab7e5216a5"
      },
      "source": [
        "# generate one random sample from the population\n",
        "\n",
        "np.random.choice(population)"
      ],
      "execution_count": null,
      "outputs": [
        {
          "output_type": "execute_result",
          "data": {
            "text/plain": [
              "24.748041834200667"
            ]
          },
          "metadata": {},
          "execution_count": 46
        }
      ]
    },
    {
      "cell_type": "code",
      "metadata": {
        "id": "Lw_HOLvZcOEI",
        "colab": {
          "base_uri": "https://localhost:8080/"
        },
        "outputId": "3a9892d4-8e91-48d3-f183-c4d059b87a6b"
      },
      "source": [
        "# Monte Carlo sampling for sample means\n",
        "\n",
        "samplemeans = np.zeros(sample_size)\n",
        "\n",
        "for expi in range(sample_size):\n",
        "  random_sample = np.random.choice(population,size = sample_size)\n",
        "  samplemeans[expi] = np.mean(random_sample)\n",
        "\n",
        "samplemeans\n",
        "\n",
        "\n"
      ],
      "execution_count": null,
      "outputs": [
        {
          "output_type": "execute_result",
          "data": {
            "text/plain": [
              "array([ 95.1351002 , 110.55442611, 107.95908874, 100.98125712,\n",
              "       101.75535955, 108.64204475,  99.1125933 , 106.93818076,\n",
              "       102.03182115,  95.58362932, 104.24005925,  99.5622698 ,\n",
              "       110.40611219, 117.48484476,  99.06018157, 110.59311615,\n",
              "       117.06760352, 109.99896222, 107.31057993, 125.07823512,\n",
              "       104.25626719, 102.29650097, 141.20302754, 112.00849302,\n",
              "       104.12367601, 113.18542193, 108.61933461, 103.61398187,\n",
              "       108.08713161,  99.96481275, 119.59001669, 113.36385846,\n",
              "       111.40183834, 122.31474331, 116.4675295 , 101.310461  ,\n",
              "        97.68370914, 118.22230742, 114.50188624, 106.11041984,\n",
              "       114.92650611, 115.79816014,  97.60762292, 110.49987504,\n",
              "       113.16969558, 104.15963989,  99.49873046,  89.89865512,\n",
              "       105.49012948, 112.16467384, 124.18605198, 100.56080291,\n",
              "       109.44001186, 123.79952526, 112.53229646, 100.5166351 ,\n",
              "       109.12798174, 122.27733318,  96.54569993, 114.57601123,\n",
              "       106.94977681, 112.26717221, 114.75392438, 106.58578111,\n",
              "       124.479444  , 100.36091522, 112.61697468, 101.8250319 ,\n",
              "       102.65599427, 115.58998427, 113.5481584 , 102.1954063 ,\n",
              "       109.15221417, 128.76133585, 101.81493692, 112.29696997,\n",
              "       102.68597474, 113.07939414, 108.25562493, 100.79301418,\n",
              "       102.08962513, 100.37514921, 111.44500457, 106.13630415,\n",
              "       104.75137883, 116.57248355, 105.71666147, 108.64037402,\n",
              "       106.57881871, 110.19107193, 116.13550217, 104.30535803,\n",
              "        83.62876849, 112.99568036, 109.59445767, 102.99757266,\n",
              "       118.71889082, 104.10560987, 103.12374085, 116.03559088,\n",
              "        92.97474255,  97.89678164, 118.13336379,  95.39401117,\n",
              "        90.60209875,  99.2282426 , 127.07629113, 114.40950313,\n",
              "       110.06635739, 110.42348176,  86.86391896, 107.08708413,\n",
              "       100.82333951, 113.22189227, 128.8851071 , 119.60727444,\n",
              "       119.12042517, 111.84053615, 109.07722848,  99.99165565,\n",
              "        86.64740725,  98.19929659, 122.3691683 ,  92.56860649,\n",
              "       110.12526684, 100.29524264, 111.35258171,  99.42833123,\n",
              "       108.63832591, 104.55317509, 108.96017786,  96.62392249,\n",
              "       104.8997126 , 100.30932606, 110.94317984, 122.17361819,\n",
              "       114.86165984, 109.19310025, 127.63060736, 106.98156478,\n",
              "        92.73381455, 115.45050635, 100.28226147, 117.21100698,\n",
              "       110.61503098, 113.13087953, 104.12651596, 101.77284919,\n",
              "       123.21632833, 100.22514988, 112.92243359, 111.20436932,\n",
              "       109.65665195, 103.33959041, 111.07436795, 106.54234316,\n",
              "       116.47144075, 106.24873168, 100.70268727, 108.84747879,\n",
              "       103.47448391, 100.08385717, 111.16479251,  93.00141289,\n",
              "       123.64364322, 109.58816267,  93.55498951,  98.5402138 ,\n",
              "        99.68554158, 126.4759489 , 103.03323024, 111.90736072,\n",
              "       116.44552532, 116.571733  , 106.83990035, 105.0605208 ,\n",
              "       114.05556871, 118.28686306, 123.78913931, 111.61514531,\n",
              "       108.09064542, 107.69530729, 110.62619978,  92.66188206,\n",
              "        86.76998974, 114.93620164, 122.15370855, 101.08537936,\n",
              "       126.50373265, 111.43171576, 114.6361216 , 108.5820226 ,\n",
              "       103.0080087 ,  99.71901828, 112.33219702, 114.49397109,\n",
              "        91.69333117, 104.4975496 , 114.40933767, 121.30540001,\n",
              "       119.36268111,  98.59162898, 103.72195891,  93.11109516,\n",
              "       112.65565399, 123.73873911, 101.08973346, 111.61357639,\n",
              "       113.56722795, 102.77743926, 107.82214687, 102.40697352,\n",
              "       109.01738357, 103.57598274, 128.12283917, 104.96524295,\n",
              "       114.39453956, 120.80875346, 107.63773047, 143.59377011,\n",
              "       117.92108563, 104.04664712, 118.26373445, 107.5003612 ,\n",
              "        87.59675214, 113.50722811, 110.05925194, 114.74298921,\n",
              "       101.31946305, 111.01763171, 111.96789608,  81.34455541,\n",
              "       105.60230917, 122.53740775, 116.97152224, 122.707182  ,\n",
              "       114.30836312, 103.60310755, 107.80792636, 109.1672305 ,\n",
              "       112.62792094, 110.37900902,  95.75217762, 106.41229585,\n",
              "       102.55591224,  98.52360037, 101.92548654, 103.19800685,\n",
              "       113.49528487, 101.97728075, 103.41594103, 111.66314424,\n",
              "        96.68727762,  98.25723104, 101.80574614, 105.47827802,\n",
              "        98.60864619, 109.54094627, 117.25444908,  93.70192851,\n",
              "       116.92094401, 107.19897873, 103.43193175,  93.88101748,\n",
              "       103.31107012, 117.08610708,  96.35472115,  82.88488112,\n",
              "       133.30771774, 109.91469952, 106.28365512, 121.71408178,\n",
              "       111.96909223, 114.33022159,  94.06086495, 107.41282254,\n",
              "        96.9204676 , 125.79964701, 106.76205995, 100.22517396,\n",
              "        99.45796102, 117.51976291, 101.91994719, 119.05969277,\n",
              "       119.74244126,  86.84460936, 103.38678488, 107.85022727,\n",
              "       106.49771652,  84.76528633, 128.66392213, 107.35198772,\n",
              "       110.71852625, 108.42136363, 102.78221924, 104.81804906,\n",
              "       101.50434706,  95.90776137, 117.82907022, 119.37073718,\n",
              "       115.51353902, 110.0633814 , 103.6462519 ,  92.62470227,\n",
              "       114.60078824, 108.17533831, 109.98533187, 105.31521835,\n",
              "       102.75347117, 112.92979658, 106.01511905, 108.86693423,\n",
              "        97.28779644,  99.5382305 , 111.65482451, 101.57769718,\n",
              "       113.38385463, 105.08123777, 117.59155725, 103.0655572 ,\n",
              "       101.03836461,  94.20517231, 111.72658204, 103.81346555,\n",
              "        91.70091957,  96.98837861, 102.92625824, 104.25802204,\n",
              "       118.1626193 , 135.06076268, 103.83205427, 109.69388305,\n",
              "       113.33382703, 107.54987533, 103.40530122, 106.88210862,\n",
              "       128.35543642,  91.41056199, 104.94507867, 116.01924107,\n",
              "       108.53642196, 110.09408617, 121.02822326, 107.44145627,\n",
              "        93.11625965, 101.57035009, 107.70890599, 120.35822044,\n",
              "       111.75826119, 108.61883894, 106.81459128, 104.17674967,\n",
              "       112.96899318, 119.65230862, 105.45674022,  91.80896656,\n",
              "       117.59883298, 112.84579503, 102.46381503, 107.10680967,\n",
              "       124.05834697, 105.18848174, 117.7386778 , 114.00703368,\n",
              "       109.58444892,  96.06877778,  99.64113603, 103.30697675,\n",
              "       104.20227518, 120.90383234, 110.83112562, 113.5553971 ,\n",
              "        98.9092198 , 121.27839756, 109.45417313, 117.44517497,\n",
              "       113.29478296, 104.13969171, 111.78625683, 111.56997657,\n",
              "        99.55716112,  97.62707424, 101.990167  ,  95.38459747,\n",
              "       105.08432645, 106.51429882, 105.00963145, 108.74091952,\n",
              "        97.63794761, 100.81049109, 120.29923611, 108.58173856,\n",
              "       109.29895588, 112.09555446, 121.46335563, 102.4708967 ,\n",
              "       102.0817725 , 116.55285753, 118.26279147,  96.82532724,\n",
              "       103.29317407, 103.48472318, 102.3643018 ,  91.508452  ,\n",
              "       107.67541327, 102.97691954, 101.70248558,  89.30288865,\n",
              "       108.6466764 , 106.60250035, 117.15426804, 106.66300085,\n",
              "       108.97895009,  93.2289276 , 124.98001272, 100.32860924,\n",
              "        96.47301693,  92.90973139,  84.65178625, 111.92220455,\n",
              "       144.33452746, 109.81120911, 121.84065618, 105.77729927,\n",
              "       107.62319026,  98.55713744,  93.50468658, 117.29723819,\n",
              "       112.72755374,  88.86008142, 104.75021417, 104.49327128,\n",
              "       109.50441749, 108.43198865, 108.99790427, 111.08776383,\n",
              "       105.33065279, 108.67674964, 118.3367596 , 114.79945208,\n",
              "       108.44066403, 108.38060556, 104.40186095,  98.83956888,\n",
              "       117.32618641,  96.92231373, 103.44074989, 103.9856156 ,\n",
              "       108.82903464,  94.07611522, 120.47645972, 116.91874107,\n",
              "        94.98425554, 100.79753597, 109.27014807, 106.65083596,\n",
              "       118.93828326, 101.17462284,  98.55676605, 105.84276303,\n",
              "        97.43425899, 107.80995129,  99.20967073, 109.02491097,\n",
              "       116.29590983, 102.13503844, 101.8259263 , 111.56424755,\n",
              "       100.23255819, 114.18686987, 113.01164872, 112.29487772,\n",
              "        95.08820285, 104.88015629, 111.94809531,  95.91122871,\n",
              "       106.83313745,  86.37711954, 106.91851116, 112.15127782,\n",
              "       113.0014032 ,  97.53418899, 112.78453996, 117.84885865,\n",
              "        94.65099867, 107.80576012, 101.13225878, 106.54640919,\n",
              "       105.95670794, 103.88075057,  96.44766798, 108.72692351,\n",
              "        89.52347085,  87.1399832 , 110.05957939,  97.0351231 ,\n",
              "       122.03332421,  99.78930444, 113.8731225 , 106.90749865])"
            ]
          },
          "metadata": {},
          "execution_count": 88
        }
      ]
    },
    {
      "cell_type": "code",
      "metadata": {
        "id": "62AGCePmc2_I",
        "colab": {
          "base_uri": "https://localhost:8080/",
          "height": 279
        },
        "outputId": "aa9559ca-fb5d-4632-dc99-55bac4eca3ed"
      },
      "source": [
        "# plot the sample means, and a line showing the true mean\n",
        "plt.plot(samplemeans, 'go',  label = 'sample mean', markerfacecolor = 'w')\n",
        "plt.plot([0,number_of_samples],[trueMean,trueMean], 'r', linewidth = 3, label = 'True mean')\n",
        "plt.xlabel('Sample number')\n",
        "plt.ylabel('Mean value')\n",
        "plt.legend()\n",
        "plt.show()"
      ],
      "execution_count": null,
      "outputs": [
        {
          "output_type": "display_data",
          "data": {
            "image/png": "[encoded data removed]",
            "text/plain": [
              "<Figure size 432x288 with 1 Axes>"
            ]
          },
          "metadata": {
            "needs_background": "light"
          }
        }
      ]
    },
    {
      "cell_type": "markdown",
      "metadata": {
        "id": "XOvaAEZRE2zE"
      },
      "source": [
        "# Cumulative averaging"
      ]
    },
    {
      "cell_type": "code",
      "metadata": {
        "id": "q8SG9Nc0qyON"
      },
      "source": [
        "# Cumulative averaging\n",
        "# the ith value in vector cumave is the mean of all previous points\n",
        "# do this first in a loop\n",
        "\n",
        "\n",
        "# then try to get the same result without a loop!\n",
        "cumave2 = \n",
        "\n",
        "# plot the results, along with a horizontal line showing the true mean\n",
        "plt.xlabel('Sample number')\n",
        "plt.ylabel('Mean value')\n",
        "\n",
        "plt.legend()\n",
        "plt.show()"
      ],
      "execution_count": null,
      "outputs": []
    },
    {
      "cell_type": "code",
      "metadata": {
        "id": "gx-lhVbBdN2m"
      },
      "source": [
        "# compute the squared divergence from the true mean, \n",
        "# repeated over 100 iterations\n",
        "\n",
        "\n",
        "# plot them all\n",
        "plt.xlabel('Sample number')\n",
        "plt.ylabel('Squared divergence from true mean')\n",
        "plt.show()\n"
      ],
      "execution_count": null,
      "outputs": []
    },
    {
      "cell_type": "markdown",
      "metadata": {
        "id": "tqR_fTXQwJQi"
      },
      "source": [
        "# Bonus: The Central Limit Theorem"
      ]
    },
    {
      "cell_type": "code",
      "metadata": {
        "id": "EiMF3lDpwfUQ"
      },
      "source": [
        "# create a histogram of one distribution of sample means\n",
        "\n",
        "\n",
        "# then show the histogram lines for all 100 iterations of sample means\n",
        "\n"
      ],
      "execution_count": null,
      "outputs": []
    }
  ]
}